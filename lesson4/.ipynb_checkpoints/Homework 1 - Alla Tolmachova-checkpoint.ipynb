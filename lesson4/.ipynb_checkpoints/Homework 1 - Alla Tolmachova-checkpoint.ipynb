{
 "cells": [
  {
   "cell_type": "markdown",
   "id": "2ead5a8f",
   "metadata": {},
   "source": [
    "#  1. Markdown cells\n",
    "* Hi! Its Main Academy?\n",
    "* All HTML tabs are supported!\n",
    "* Моя сторінка на лінкендін [Лінкендін] \n",
    "[Лінкендін]:(https://www.linkedin.com/login/ru)\n",
    "\n",
    "# This is Heading1\n",
    "\n",
    "## This is Heading2\n",
    "\n",
    "some gray colored text:\n",
    "> This is where we can bring qoutes and present them nicely\n",
    "\n",
    "And this is the paragraph about something very important Even math:\n",
    "\n",
    "$$\n",
    " y_{sub} = \\sqrt{(}x_{sub})\n",
    "$$\n",
    "Or python code example:\n",
    "\n",
    "    import math\n",
    "    def foo():\n",
    "        return \"foo\""
   ]
  },
  {
   "cell_type": "code",
   "execution_count": null,
   "id": "1d03d999",
   "metadata": {},
   "outputs": [],
   "source": []
  }
 ],
 "metadata": {
  "kernelspec": {
   "display_name": "Python 3 (ipykernel)",
   "language": "python",
   "name": "python3"
  },
  "language_info": {
   "codemirror_mode": {
    "name": "ipython",
    "version": 3
   },
   "file_extension": ".py",
   "mimetype": "text/x-python",
   "name": "python",
   "nbconvert_exporter": "python",
   "pygments_lexer": "ipython3",
   "version": "3.8.10"
  }
 },
 "nbformat": 4,
 "nbformat_minor": 5
}
